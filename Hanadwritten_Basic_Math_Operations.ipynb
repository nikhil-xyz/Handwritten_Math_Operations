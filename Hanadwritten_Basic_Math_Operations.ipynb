{
  "nbformat": 4,
  "nbformat_minor": 0,
  "metadata": {
    "colab": {
      "provenance": [],
      "authorship_tag": "ABX9TyOEieA+XbclI0FQnM1YW7ny",
      "include_colab_link": true
    },
    "kernelspec": {
      "name": "python3",
      "display_name": "Python 3"
    },
    "language_info": {
      "name": "python"
    },
    "accelerator": "GPU",
    "gpuClass": "standard"
  },
  "cells": [
    {
      "cell_type": "markdown",
      "metadata": {
        "id": "view-in-github",
        "colab_type": "text"
      },
      "source": [
        "<a href=\"https://colab.research.google.com/github/nikhil-xyz/Handwritten_Math_Operations/blob/main/Hanadwritten_Basic_Math_Operations.ipynb\" target=\"_parent\"><img src=\"https://colab.research.google.com/assets/colab-badge.svg\" alt=\"Open In Colab\"/></a>"
      ]
    },
    {
      "cell_type": "code",
      "source": [
        "!git clone https://github.com/nikhil-xyz/Handwritten_Math_Operations.git "
      ],
      "metadata": {
        "colab": {
          "base_uri": "https://localhost:8080/"
        },
        "id": "_DuX6zjXGLdD",
        "outputId": "fab33cb0-ba82-476c-d220-a9d13c9efb77"
      },
      "execution_count": 1,
      "outputs": [
        {
          "output_type": "stream",
          "name": "stdout",
          "text": [
            "Cloning into 'Handwritten_Math_Operations'...\n",
            "remote: Enumerating objects: 3, done.\u001b[K\n",
            "remote: Counting objects: 100% (3/3), done.\u001b[K\n",
            "remote: Compressing objects: 100% (2/2), done.\u001b[K\n",
            "remote: Total 3 (delta 0), reused 0 (delta 0), pack-reused 0\u001b[K\n",
            "Unpacking objects: 100% (3/3), 661 bytes | 661.00 KiB/s, done.\n"
          ]
        }
      ]
    },
    {
      "cell_type": "code",
      "source": [
        "!mkdir -p ~/.kaggle\n",
        "!cp Handwritten_Math_Operations/kaggle.json ~/.kaggle/"
      ],
      "metadata": {
        "id": "8RZ0tu_pG4-e"
      },
      "execution_count": 2,
      "outputs": []
    },
    {
      "cell_type": "code",
      "source": [
        "!kaggle datasets download -d sagyamthapa/handwritten-math-symbols"
      ],
      "metadata": {
        "colab": {
          "base_uri": "https://localhost:8080/"
        },
        "id": "o65d4lkZHWN5",
        "outputId": "e3b3ebaf-3a74-4e73-958d-904ba7eb90a5"
      },
      "execution_count": 3,
      "outputs": [
        {
          "output_type": "stream",
          "name": "stdout",
          "text": [
            "Warning: Your Kaggle API key is readable by other users on this system! To fix this, you can run 'chmod 600 /root/.kaggle/kaggle.json'\n",
            "Downloading handwritten-math-symbols.zip to /content\n",
            " 86% 34.0M/39.4M [00:00<00:00, 57.6MB/s]\n",
            "100% 39.4M/39.4M [00:00<00:00, 57.6MB/s]\n"
          ]
        }
      ]
    },
    {
      "cell_type": "code",
      "execution_count": 4,
      "metadata": {
        "id": "kNrGO-Qg5u1T"
      },
      "outputs": [],
      "source": [
        "import zipfile\n",
        "zip_ref = zipfile.ZipFile('/content/handwritten-math-symbols.zip')\n",
        "zip_ref.extractall('/content')\n",
        "zip_ref.close()"
      ]
    },
    {
      "cell_type": "code",
      "source": [
        "import numpy as np\n",
        "import cv2\n",
        "import os\n",
        "import tensorflow as tf\n",
        "import matplotlib.pyplot as plt"
      ],
      "metadata": {
        "id": "e0yJL-TSCu31"
      },
      "execution_count": 5,
      "outputs": []
    },
    {
      "cell_type": "code",
      "source": [
        "dataset = tf.keras.preprocessing.image_dataset_from_directory(\n",
        "    \"dataset\",\n",
        "    shuffle = True\n",
        ")"
      ],
      "metadata": {
        "colab": {
          "base_uri": "https://localhost:8080/"
        },
        "id": "IcVuZAJAGJrM",
        "outputId": "212593f3-6094-4601-ee17-4634aa5befa2"
      },
      "execution_count": 6,
      "outputs": [
        {
          "output_type": "stream",
          "name": "stdout",
          "text": [
            "Found 10071 files belonging to 19 classes.\n"
          ]
        }
      ]
    },
    {
      "cell_type": "code",
      "source": [
        "classes = dataset.class_names\n",
        "classes"
      ],
      "metadata": {
        "colab": {
          "base_uri": "https://localhost:8080/"
        },
        "id": "2Tnse25DIcVL",
        "outputId": "e4d05ddc-82f4-4642-dfd3-f6e60d81ab41"
      },
      "execution_count": 7,
      "outputs": [
        {
          "output_type": "execute_result",
          "data": {
            "text/plain": [
              "['0',\n",
              " '1',\n",
              " '2',\n",
              " '3',\n",
              " '4',\n",
              " '5',\n",
              " '6',\n",
              " '7',\n",
              " '8',\n",
              " '9',\n",
              " 'add',\n",
              " 'dec',\n",
              " 'div',\n",
              " 'eq',\n",
              " 'mul',\n",
              " 'sub',\n",
              " 'x',\n",
              " 'y',\n",
              " 'z']"
            ]
          },
          "metadata": {},
          "execution_count": 7
        }
      ]
    },
    {
      "cell_type": "code",
      "source": [
        "print(len(dataset))"
      ],
      "metadata": {
        "colab": {
          "base_uri": "https://localhost:8080/"
        },
        "id": "AjiiWQMYI9cg",
        "outputId": "7632fce8-4d8c-483b-bc86-7358cf67971b"
      },
      "execution_count": 8,
      "outputs": [
        {
          "output_type": "stream",
          "name": "stdout",
          "text": [
            "315\n"
          ]
        }
      ]
    },
    {
      "cell_type": "code",
      "source": [
        "for image, label in dataset.take(1):\n",
        "  print(image[0].shape)\n",
        "  plt.imshow(image[0].numpy().astype(int))\n",
        "  print(classes[label[0].numpy()])"
      ],
      "metadata": {
        "colab": {
          "base_uri": "https://localhost:8080/",
          "height": 304
        },
        "id": "91ks4T9QJDL3",
        "outputId": "c1fc8e1c-8b34-4502-f007-4ef4d5773c54"
      },
      "execution_count": 9,
      "outputs": [
        {
          "output_type": "stream",
          "name": "stdout",
          "text": [
            "(256, 256, 3)\n",
            "7\n"
          ]
        },
        {
          "output_type": "display_data",
          "data": {
            "text/plain": [
              "<Figure size 432x288 with 1 Axes>"
            ],
            "image/png": "[encoded data removed]"
          },
          "metadata": {
            "needs_background": "light"
          }
        }
      ]
    },
    {
      "cell_type": "code",
      "source": [
        "train = dataset.take(int(len(dataset)*0.7))\n",
        "validation = dataset.skip(len(train)).take(int(len(dataset)*0.2)+1)\n",
        "test = dataset.skip(len(train) + len(validation)).take(int(len(dataset)*0.1)+1)"
      ],
      "metadata": {
        "id": "-HXShJkSJKoS"
      },
      "execution_count": 10,
      "outputs": []
    },
    {
      "cell_type": "code",
      "source": [
        "print(len(train))\n",
        "print(len(validation))\n",
        "print(len(test))"
      ],
      "metadata": {
        "colab": {
          "base_uri": "https://localhost:8080/"
        },
        "id": "modbk7zpJRVj",
        "outputId": "c3022686-b777-47b9-90dd-b51e8c1b25fe"
      },
      "execution_count": 11,
      "outputs": [
        {
          "output_type": "stream",
          "name": "stdout",
          "text": [
            "220\n",
            "64\n",
            "31\n"
          ]
        }
      ]
    },
    {
      "cell_type": "code",
      "source": [
        "train = train.cache().shuffle(1000).prefetch(16)\n",
        "validation = validation.cache().shuffle(1000).prefetch(16)\n",
        "test = test.cache().shuffle(1000).prefetch(16)"
      ],
      "metadata": {
        "id": "apfVmpzLJUQX"
      },
      "execution_count": 12,
      "outputs": []
    },
    {
      "cell_type": "code",
      "source": [
        "scale_and_resize = tf.keras.Sequential([\n",
        "    tf.keras.layers.experimental.preprocessing.Resizing(256,256),\n",
        "    tf.keras.layers.experimental.preprocessing.Rescaling(1.0/255)\n",
        "])"
      ],
      "metadata": {
        "id": "oR18_fGBJZAe"
      },
      "execution_count": 13,
      "outputs": []
    },
    {
      "cell_type": "code",
      "source": [
        "# augmentation = tf.keras.Sequential([\n",
        "#     tf.keras.layers.experimental.preprocessing.RandomFlip(\"horizontal_and_vertical\"),\n",
        "#     tf.keras.layers.experimental.preprocessing.RandomRotation(0.2)\n",
        "# ])"
      ],
      "metadata": {
        "id": "pEWtBBMmJbGb"
      },
      "execution_count": 14,
      "outputs": []
    },
    {
      "cell_type": "code",
      "source": [
        "model = tf.keras.models.Sequential([\n",
        "    scale_and_resize,\n",
        "    tf.keras.layers.Conv2D(32, (3,3), activation='relu', input_shape=(len(dataset), 256, 256, 3)),\n",
        "    tf.keras.layers.MaxPooling2D((2,2)),\n",
        "\n",
        "    tf.keras.layers.Conv2D(64, (3,3), activation='relu'),\n",
        "    tf.keras.layers.MaxPooling2D((2,2)),\n",
        "\n",
        "    tf.keras.layers.Conv2D(128, (3,3), activation='relu'),\n",
        "    tf.keras.layers.MaxPooling2D((2,2)),\n",
        "\n",
        "    tf.keras.layers.Conv2D(256, (3,3), activation='relu'),\n",
        "    tf.keras.layers.MaxPooling2D((2,2)),\n",
        "\n",
        "    tf.keras.layers.Conv2D(64, (3,3), activation='relu'),\n",
        "    tf.keras.layers.MaxPooling2D((2,2)),\n",
        "\n",
        "    tf.keras.layers.Flatten(),\n",
        "    tf.keras.layers.Dense(64, activation='relu'),\n",
        "    tf.keras.layers.Dense(len(classes), activation='softmax')\n",
        "])\n",
        "\n",
        "model.build(input_shape = (len(dataset), 256, 256, 3))"
      ],
      "metadata": {
        "id": "05yU_BOZJdNn"
      },
      "execution_count": 18,
      "outputs": []
    },
    {
      "cell_type": "code",
      "source": [
        "model.compile(optimizer='adam',\n",
        "              loss=tf.keras.losses.SparseCategoricalCrossentropy(from_logits=False),\n",
        "              metrics = ['accuracy']\n",
        ")"
      ],
      "metadata": {
        "id": "IQYdBAH0JhhW"
      },
      "execution_count": 19,
      "outputs": []
    },
    {
      "cell_type": "code",
      "source": [
        "history = model.fit(train, epochs=10, validation_data=validation)"
      ],
      "metadata": {
        "colab": {
          "base_uri": "https://localhost:8080/"
        },
        "id": "HPmJkSqDJn-v",
        "outputId": "d3ab8925-4abc-4ecf-82f8-a3a5fb736cb3"
      },
      "execution_count": 20,
      "outputs": [
        {
          "output_type": "stream",
          "name": "stdout",
          "text": [
            "Epoch 1/10\n",
            "220/220 [==============================] - 20s 87ms/step - loss: 1.5767 - accuracy: 0.5303 - val_loss: 0.5250 - val_accuracy: 0.8394\n",
            "Epoch 2/10\n",
            "220/220 [==============================] - 19s 85ms/step - loss: 0.4112 - accuracy: 0.8795 - val_loss: 0.3382 - val_accuracy: 0.8975\n",
            "Epoch 3/10\n",
            "220/220 [==============================] - 19s 85ms/step - loss: 0.1773 - accuracy: 0.9428 - val_loss: 0.2298 - val_accuracy: 0.9346\n",
            "Epoch 4/10\n",
            "220/220 [==============================] - 19s 85ms/step - loss: 0.0873 - accuracy: 0.9733 - val_loss: 0.1962 - val_accuracy: 0.9458\n",
            "Epoch 5/10\n",
            "220/220 [==============================] - 19s 84ms/step - loss: 0.0712 - accuracy: 0.9746 - val_loss: 0.1934 - val_accuracy: 0.9473\n",
            "Epoch 6/10\n",
            "220/220 [==============================] - 19s 85ms/step - loss: 0.0576 - accuracy: 0.9830 - val_loss: 0.2718 - val_accuracy: 0.9360\n",
            "Epoch 7/10\n",
            "220/220 [==============================] - 19s 85ms/step - loss: 0.0283 - accuracy: 0.9916 - val_loss: 0.2923 - val_accuracy: 0.9482\n",
            "Epoch 8/10\n",
            "220/220 [==============================] - 19s 85ms/step - loss: 0.0432 - accuracy: 0.9855 - val_loss: 0.1772 - val_accuracy: 0.9565\n",
            "Epoch 9/10\n",
            "220/220 [==============================] - 19s 85ms/step - loss: 0.0266 - accuracy: 0.9919 - val_loss: 0.2607 - val_accuracy: 0.9404\n",
            "Epoch 10/10\n",
            "220/220 [==============================] - 19s 84ms/step - loss: 0.0334 - accuracy: 0.9911 - val_loss: 0.2251 - val_accuracy: 0.9517\n"
          ]
        }
      ]
    },
    {
      "cell_type": "code",
      "source": [
        "model.evaluate(test)"
      ],
      "metadata": {
        "colab": {
          "base_uri": "https://localhost:8080/"
        },
        "id": "9NXwoLfdJr2H",
        "outputId": "e9441dbd-da61-4868-db3f-309de7f27cef"
      },
      "execution_count": 21,
      "outputs": [
        {
          "output_type": "stream",
          "name": "stdout",
          "text": [
            "31/31 [==============================] - 14s 35ms/step - loss: 0.2495 - accuracy: 0.9471\n"
          ]
        },
        {
          "output_type": "execute_result",
          "data": {
            "text/plain": [
              "[0.24947534501552582, 0.9471006989479065]"
            ]
          },
          "metadata": {},
          "execution_count": 21
        }
      ]
    },
    {
      "cell_type": "code",
      "source": [],
      "metadata": {
        "id": "fy_KtUjxLeeU"
      },
      "execution_count": null,
      "outputs": []
    }
  ]
}